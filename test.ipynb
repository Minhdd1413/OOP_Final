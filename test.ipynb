{
 "cells": [
  {
   "cell_type": "code",
   "execution_count": 14,
   "metadata": {},
   "outputs": [],
   "source": [
    "import pyspark.sql as sql\n",
    "from pyspark.sql import SparkSession\n",
    "dir = \"auto-mpg.csv\""
   ]
  },
  {
   "cell_type": "code",
   "execution_count": 15,
   "metadata": {},
   "outputs": [
    {
     "data": {
      "text/plain": [
       "Index(['mpg', 'cylinders', 'displacement', 'horsepower', 'weight',\n",
       "       'acceleration', 'model year', 'origin', 'car name'],\n",
       "      dtype='object')"
      ]
     },
     "execution_count": 15,
     "metadata": {},
     "output_type": "execute_result"
    }
   ],
   "source": [
    "import pandas as pd\n",
    "pd.read_csv(dir).keys()"
   ]
  },
  {
   "cell_type": "code",
   "execution_count": 16,
   "metadata": {},
   "outputs": [
    {
     "name": "stdout",
     "output_type": "stream",
     "text": [
      "+----+---------+------------+----------+------+------------+----------+------+--------------------+\n",
      "| mpg|cylinders|displacement|horsepower|weight|acceleration|model year|origin|            car name|\n",
      "+----+---------+------------+----------+------+------------+----------+------+--------------------+\n",
      "|18.0|        8|       307.0|       130|  3504|        12.0|        70|     1|chevrolet chevell...|\n",
      "|15.0|        8|       350.0|       165|  3693|        11.5|        70|     1|   buick skylark 320|\n",
      "|18.0|        8|       318.0|       150|  3436|        11.0|        70|     1|  plymouth satellite|\n",
      "|16.0|        8|       304.0|       150|  3433|        12.0|        70|     1|       amc rebel sst|\n",
      "|17.0|        8|       302.0|       140|  3449|        10.5|        70|     1|         ford torino|\n",
      "|15.0|        8|       429.0|       198|  4341|        10.0|        70|     1|    ford galaxie 500|\n",
      "|14.0|        8|       454.0|       220|  4354|         9.0|        70|     1|    chevrolet impala|\n",
      "|14.0|        8|       440.0|       215|  4312|         8.5|        70|     1|   plymouth fury iii|\n",
      "|14.0|        8|       455.0|       225|  4425|        10.0|        70|     1|    pontiac catalina|\n",
      "|15.0|        8|       390.0|       190|  3850|         8.5|        70|     1|  amc ambassador dpl|\n",
      "|15.0|        8|       383.0|       170|  3563|        10.0|        70|     1| dodge challenger se|\n",
      "|14.0|        8|       340.0|       160|  3609|         8.0|        70|     1|  plymouth 'cuda 340|\n",
      "|15.0|        8|       400.0|       150|  3761|         9.5|        70|     1|chevrolet monte c...|\n",
      "|14.0|        8|       455.0|       225|  3086|        10.0|        70|     1|buick estate wago...|\n",
      "|24.0|        4|       113.0|        95|  2372|        15.0|        70|     3|toyota corona mar...|\n",
      "|22.0|        6|       198.0|        95|  2833|        15.5|        70|     1|     plymouth duster|\n",
      "|18.0|        6|       199.0|        97|  2774|        15.5|        70|     1|          amc hornet|\n",
      "|21.0|        6|       200.0|        85|  2587|        16.0|        70|     1|       ford maverick|\n",
      "|27.0|        4|        97.0|        88|  2130|        14.5|        70|     3|        datsun pl510|\n",
      "|26.0|        4|        97.0|        46|  1835|        20.5|        70|     2|volkswagen 1131 d...|\n",
      "+----+---------+------------+----------+------+------------+----------+------+--------------------+\n",
      "only showing top 20 rows\n",
      "\n"
     ]
    }
   ],
   "source": [
    "spark = SparkSession.builder.appName(\"Read CSV\").getOrCreate()\n",
    "df = spark.read.csv(dir, header=True, inferSchema=True)\n",
    "df.show()"
   ]
  },
  {
   "cell_type": "code",
   "execution_count": 17,
   "metadata": {},
   "outputs": [
    {
     "name": "stdout",
     "output_type": "stream",
     "text": [
      "root\n",
      " |-- mpg: double (nullable = true)\n",
      " |-- cylinders: integer (nullable = true)\n",
      " |-- displacement: double (nullable = true)\n",
      " |-- horsepower: string (nullable = true)\n",
      " |-- weight: integer (nullable = true)\n",
      " |-- acceleration: double (nullable = true)\n",
      " |-- model year: integer (nullable = true)\n",
      " |-- origin: integer (nullable = true)\n",
      " |-- car name: string (nullable = true)\n",
      "\n"
     ]
    }
   ],
   "source": [
    "df.printSchema()"
   ]
  },
  {
   "cell_type": "code",
   "execution_count": 18,
   "metadata": {},
   "outputs": [
    {
     "ename": "IllegalArgumentException",
     "evalue": "requirement failed: Quantile calculation for column horsepower with data type StringType is not supported.",
     "output_type": "error",
     "traceback": [
      "\u001b[1;31m---------------------------------------------------------------------------\u001b[0m",
      "\u001b[1;31mIllegalArgumentException\u001b[0m                  Traceback (most recent call last)",
      "Cell \u001b[1;32mIn[18], line 3\u001b[0m\n\u001b[0;32m      1\u001b[0m df \u001b[39m=\u001b[39m df\u001b[39m.\u001b[39mna\u001b[39m.\u001b[39mdrop()\n\u001b[1;32m----> 3\u001b[0m q1 \u001b[39m=\u001b[39m df\u001b[39m.\u001b[39;49mapproxQuantile(\u001b[39m'\u001b[39;49m\u001b[39mhorsepower\u001b[39;49m\u001b[39m'\u001b[39;49m, [\u001b[39m0.25\u001b[39;49m], \u001b[39m0.05\u001b[39;49m)[\u001b[39m0\u001b[39m]\n\u001b[0;32m      4\u001b[0m q3 \u001b[39m=\u001b[39m df\u001b[39m.\u001b[39mapproxQuantile(\u001b[39m'\u001b[39m\u001b[39mhorsepower\u001b[39m\u001b[39m'\u001b[39m, [\u001b[39m0.75\u001b[39m], \u001b[39m0.05\u001b[39m)[\u001b[39m0\u001b[39m]\n\u001b[0;32m      5\u001b[0m iqr \u001b[39m=\u001b[39m q3 \u001b[39m-\u001b[39m q1\n",
      "File \u001b[1;32mc:\\Users\\ADMIN\\AppData\\Local\\Programs\\Python\\Python39\\lib\\site-packages\\pyspark\\sql\\dataframe.py:4476\u001b[0m, in \u001b[0;36mDataFrame.approxQuantile\u001b[1;34m(self, col, probabilities, relativeError)\u001b[0m\n\u001b[0;32m   4473\u001b[0m     \u001b[39mraise\u001b[39;00m \u001b[39mValueError\u001b[39;00m(\u001b[39m\"\u001b[39m\u001b[39mrelativeError should be >= 0.\u001b[39m\u001b[39m\"\u001b[39m)\n\u001b[0;32m   4474\u001b[0m relativeError \u001b[39m=\u001b[39m \u001b[39mfloat\u001b[39m(relativeError)\n\u001b[1;32m-> 4476\u001b[0m jaq \u001b[39m=\u001b[39m \u001b[39mself\u001b[39;49m\u001b[39m.\u001b[39;49m_jdf\u001b[39m.\u001b[39;49mstat()\u001b[39m.\u001b[39;49mapproxQuantile(col, probabilities, relativeError)\n\u001b[0;32m   4477\u001b[0m jaq_list \u001b[39m=\u001b[39m [\u001b[39mlist\u001b[39m(j) \u001b[39mfor\u001b[39;00m j \u001b[39min\u001b[39;00m jaq]\n\u001b[0;32m   4478\u001b[0m \u001b[39mreturn\u001b[39;00m jaq_list[\u001b[39m0\u001b[39m] \u001b[39mif\u001b[39;00m isStr \u001b[39melse\u001b[39;00m jaq_list\n",
      "File \u001b[1;32mc:\\Users\\ADMIN\\AppData\\Local\\Programs\\Python\\Python39\\lib\\site-packages\\py4j\\java_gateway.py:1322\u001b[0m, in \u001b[0;36mJavaMember.__call__\u001b[1;34m(self, *args)\u001b[0m\n\u001b[0;32m   1316\u001b[0m command \u001b[39m=\u001b[39m proto\u001b[39m.\u001b[39mCALL_COMMAND_NAME \u001b[39m+\u001b[39m\\\n\u001b[0;32m   1317\u001b[0m     \u001b[39mself\u001b[39m\u001b[39m.\u001b[39mcommand_header \u001b[39m+\u001b[39m\\\n\u001b[0;32m   1318\u001b[0m     args_command \u001b[39m+\u001b[39m\\\n\u001b[0;32m   1319\u001b[0m     proto\u001b[39m.\u001b[39mEND_COMMAND_PART\n\u001b[0;32m   1321\u001b[0m answer \u001b[39m=\u001b[39m \u001b[39mself\u001b[39m\u001b[39m.\u001b[39mgateway_client\u001b[39m.\u001b[39msend_command(command)\n\u001b[1;32m-> 1322\u001b[0m return_value \u001b[39m=\u001b[39m get_return_value(\n\u001b[0;32m   1323\u001b[0m     answer, \u001b[39mself\u001b[39;49m\u001b[39m.\u001b[39;49mgateway_client, \u001b[39mself\u001b[39;49m\u001b[39m.\u001b[39;49mtarget_id, \u001b[39mself\u001b[39;49m\u001b[39m.\u001b[39;49mname)\n\u001b[0;32m   1325\u001b[0m \u001b[39mfor\u001b[39;00m temp_arg \u001b[39min\u001b[39;00m temp_args:\n\u001b[0;32m   1326\u001b[0m     \u001b[39mif\u001b[39;00m \u001b[39mhasattr\u001b[39m(temp_arg, \u001b[39m\"\u001b[39m\u001b[39m_detach\u001b[39m\u001b[39m\"\u001b[39m):\n",
      "File \u001b[1;32mc:\\Users\\ADMIN\\AppData\\Local\\Programs\\Python\\Python39\\lib\\site-packages\\pyspark\\errors\\exceptions\\captured.py:175\u001b[0m, in \u001b[0;36mcapture_sql_exception.<locals>.deco\u001b[1;34m(*a, **kw)\u001b[0m\n\u001b[0;32m    171\u001b[0m converted \u001b[39m=\u001b[39m convert_exception(e\u001b[39m.\u001b[39mjava_exception)\n\u001b[0;32m    172\u001b[0m \u001b[39mif\u001b[39;00m \u001b[39mnot\u001b[39;00m \u001b[39misinstance\u001b[39m(converted, UnknownException):\n\u001b[0;32m    173\u001b[0m     \u001b[39m# Hide where the exception came from that shows a non-Pythonic\u001b[39;00m\n\u001b[0;32m    174\u001b[0m     \u001b[39m# JVM exception message.\u001b[39;00m\n\u001b[1;32m--> 175\u001b[0m     \u001b[39mraise\u001b[39;00m converted \u001b[39mfrom\u001b[39;00m \u001b[39mNone\u001b[39;00m\n\u001b[0;32m    176\u001b[0m \u001b[39melse\u001b[39;00m:\n\u001b[0;32m    177\u001b[0m     \u001b[39mraise\u001b[39;00m\n",
      "\u001b[1;31mIllegalArgumentException\u001b[0m: requirement failed: Quantile calculation for column horsepower with data type StringType is not supported."
     ]
    }
   ],
   "source": [
    "df = df.na.drop()\n",
    "\n",
    "q1 = df.approxQuantile('horsepower', [0.25], 0.05)[0]\n",
    "q3 = df.approxQuantile('horsepower', [0.75], 0.05)[0]\n",
    "iqr = q3 - q1\n",
    "df = df.filter((df.horsepower >= q1 - 1.5 * iqr) & (df.horsepower <= q3 + 1.5 * iqr))\n",
    "\n",
    "from pyspark.sql.functions import regexp_replace\n",
    "df = df.withColumn('origin', regexp_replace('origin', '1', 'USA'))\n",
    "df = df.withColumn('origin', regexp_replace('origin', '2', 'Europe'))\n",
    "df = df.withColumn('origin', regexp_replace('origin', '3', 'Asia'))\n",
    "\n",
    "from pyspark.ml.feature import VectorAssembler\n",
    "assembler = VectorAssembler(inputCols=['cylinders', 'displacement', 'horsepower', 'weight', 'acceleration', 'model_year', 'origin'], outputCol='features')\n",
    "df = assembler.transform(df)\n"
   ]
  }
 ],
 "metadata": {
  "kernelspec": {
   "display_name": "Python 3",
   "language": "python",
   "name": "python3"
  },
  "language_info": {
   "codemirror_mode": {
    "name": "ipython",
    "version": 3
   },
   "file_extension": ".py",
   "mimetype": "text/x-python",
   "name": "python",
   "nbconvert_exporter": "python",
   "pygments_lexer": "ipython3",
   "version": "3.9.0"
  },
  "orig_nbformat": 4
 },
 "nbformat": 4,
 "nbformat_minor": 2
}
